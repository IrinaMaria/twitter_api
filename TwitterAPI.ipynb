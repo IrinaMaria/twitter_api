{
  "nbformat": 4,
  "nbformat_minor": 0,
  "metadata": {
    "colab": {
      "name": "TwitterAPI.ipynb",
      "provenance": [],
      "authorship_tag": "ABX9TyPaoUvJZpxtl0OHjknzIo2Y",
      "include_colab_link": true
    },
    "kernelspec": {
      "name": "python3",
      "display_name": "Python 3"
    },
    "language_info": {
      "name": "python"
    }
  },
  "cells": [
    {
      "cell_type": "markdown",
      "metadata": {
        "id": "view-in-github",
        "colab_type": "text"
      },
      "source": [
        "<a href=\"https://colab.research.google.com/github/IrinaMaria/twitter_api/blob/main/TwitterAPI.ipynb\" target=\"_parent\"><img src=\"https://colab.research.google.com/assets/colab-badge.svg\" alt=\"Open In Colab\"/></a>"
      ]
    },
    {
      "cell_type": "markdown",
      "metadata": {
        "id": "ZMO8ZmArIS0K"
      },
      "source": [
        "# Value Proposition . Ideas . Resources\n"
      ]
    },
    {
      "cell_type": "markdown",
      "metadata": {
        "id": "MgWzaLy9Idjn"
      },
      "source": [
        "### Ideas:\n",
        "\n",
        "To get data on Billie Eilish (or Ariana Grande) from Twitter.\n",
        "\n",
        "Questions we would like to answer or make them part of a story: \n",
        " - What is the correlation between the number of tweets around certain events (eg. album rlease)? \n",
        " \n"
      ]
    },
    {
      "cell_type": "markdown",
      "metadata": {
        "id": "gZgZcdvfJ-3W"
      },
      "source": [
        "#### Resources: \n",
        "\n",
        "Full ETL project (Python, SQL, Tableau) : \n",
        "\n",
        "- Blog Post:  https://medium.com/analytics-vidhya/how-i-built-a-twitter-dashboard-4d5d0e53c36c  \n",
        "- Tableau Dashboard: https://public.tableau.com/profile/thejasmine#!/vizhome/MakeoverMondayTwitterDashboard/TwitterDashboard\n",
        "- Github Repo: https://github.com/thejasmine/twitter_scraper_PostgreSQL\n",
        "\n",
        "Exploration of Julia Michaels Collaborations (Tableau) \n",
        "- Tableau Dashboard: https://public.tableau.com/es-es/gallery/exploring-julia-michaels-collaborations?tab=viz-of-the-day&type=viz-of-the-day\n",
        "\n",
        "Analysis of Billie Eilish music  (Python, Tableau)\n",
        "- Tableau Dashboard: https://public.tableau.com/profile/priyanka.dobhal0993#!/vizhome/BillieEilish-SpotifyMusicAnalysis/SpotifyAttributes \n",
        "- GitHub Repo (for the data extract and ML): https://github.com/jmcabreira/A-Music-Taste-Analysis-Using-Spotify-API-and-Python\n",
        "- DataSet: https://data.world/priyankad0993/billie-elish-music\n",
        "\n"
      ]
    }
  ]
}